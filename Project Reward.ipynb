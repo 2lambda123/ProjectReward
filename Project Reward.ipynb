{
 "cells": [
  {
   "cell_type": "code",
   "execution_count": 48,
   "metadata": {},
   "outputs": [],
   "source": [
    "import pandas as pd\n",
    "import numpy as np\n",
    "import yfinance as yf\n",
    "AZPN = yf.Ticker(\"AZPN\")\n",
    "opt = AZPN.option_chain('2020-07-17')\n",
    "calls = opt.calls\n",
    "puts = opt.puts\n",
    "# print(calls)"
   ]
  },
  {
   "cell_type": "code",
   "execution_count": 54,
   "metadata": {},
   "outputs": [
    {
     "name": "stdout",
     "output_type": "stream",
     "text": [
      "{70.0: 51.0, 80.0: 40.6, 95.0: 6.15, 100.0: 2.35, 105.0: 0.8, 110.0: 1.19, 115.0: 1.14, 120.0: 1.5, 125.0: 0.65, 130.0: 1.93, 135.0: 0.5, 140.0: 2.15, 145.0: 0.6, 155.0: 0.05, 160.0: 0.1, 175.0: 0.05, 180.0: 0.05}\n"
     ]
    }
   ],
   "source": [
    "#k = calls[calls['inTheMoney'] == False]\n",
    "l = calls[['strike', 'lastPrice']]\n",
    "m = l.set_index('strike').to_dict()\n",
    "n = m['lastPrice'] \n",
    "print(n)"
   ]
  },
  {
   "cell_type": "code",
   "execution_count": 52,
   "metadata": {},
   "outputs": [],
   "source": [
    "\n",
    "def Call_Credit_Spread():\n",
    "#     Credit spreads should be otm\n",
    "#     We need to check the risk, reward, break even point\n",
    "#     Then we need to check the ratio of the risk/reward\n",
    "#     Then we need to store the 'Transaction' of the least ratio\n",
    "#     Change currentRatio with the best available one and save that transcation\n",
    "    i=0\n",
    "    best_ratio = {'x':0, 'k':0, 'ratio':((2**31)-1)}\n",
    "    \n",
    "    for x in n:\n",
    "        for k in n:\n",
    "            if k<=x:\n",
    "                continue\n",
    "            else:\n",
    "                currentRatio = 1\n",
    "                strikeShort = x\n",
    "                strikeLong = k\n",
    "                #Selling the cheapest one and then buying the more expensive one, one by one\n",
    "                premiumShort = n[x]\n",
    "                premiumLong = n[k]\n",
    "                #figuring out the max risk vs reward in each spread to minimise the risk/reward ratio.\n",
    "                MaxReward = float('{:,.3f}'.format(premiumShort - premiumLong))\n",
    "                #print(\"MaxReward = \", MaxReward)\n",
    "                MaxRisk = float('{:,.2f}'.format(strikeLong - strikeShort - MaxReward))\n",
    "                #print(\"MaxRisk = \", MaxRisk)\n",
    "                if MaxReward == 0:\n",
    "                    continue\n",
    "                else: \n",
    "                    Ratio =  float('{:,.2f}'.format(MaxRisk/MaxReward))\n",
    "                    if Ratio < best_ratio['ratio']:\n",
    "                        best_ratio['k']=k\n",
    "                        best_ratio['x']=x\n",
    "                        best_ratio['ratio']=Ratio\n",
    "                #print(\"Ratio = \", Ratio)\n",
    "        return best_ratio\n",
    "        \n",
    "\n"
   ]
  },
  {
   "cell_type": "code",
   "execution_count": 53,
   "metadata": {},
   "outputs": [
    {
     "name": "stdout",
     "output_type": "stream",
     "text": [
      "{'x': 100.0, 'k': 105.0, 'ratio': 2.23}\n"
     ]
    }
   ],
   "source": [
    "print(Call_Credit_Spread())\n"
   ]
  },
  {
   "cell_type": "code",
   "execution_count": null,
   "metadata": {},
   "outputs": [],
   "source": []
  }
 ],
 "metadata": {
  "kernelspec": {
   "display_name": "Python 3",
   "language": "python",
   "name": "python3"
  },
  "language_info": {
   "codemirror_mode": {
    "name": "ipython",
    "version": 3
   },
   "file_extension": ".py",
   "mimetype": "text/x-python",
   "name": "python",
   "nbconvert_exporter": "python",
   "pygments_lexer": "ipython3",
   "version": "3.8.3"
  }
 },
 "nbformat": 4,
 "nbformat_minor": 4
}
