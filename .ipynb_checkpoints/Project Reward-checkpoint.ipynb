{
 "cells": [
  {
   "cell_type": "code",
   "execution_count": 43,
   "metadata": {},
   "outputs": [],
   "source": [
    "#Chirag's Branchhhhh\n",
    "import pandas as pd\n",
    "pd.options.display.float_format = '{:.3f}'.format\n",
    "import numpy as np\n",
    "import yfinance as yf\n",
    "s = yf.Ticker(\"AAPL\")\n",
    "opt = s.option_chain('2020-07-17')\n",
    "calls = opt.calls\n",
    "puts = opt.puts"
   ]
  },
  {
   "cell_type": "code",
   "execution_count": 63,
   "metadata": {},
   "outputs": [
    {
     "name": "stdout",
     "output_type": "stream",
     "text": [
      "{250.0: 135.75, 270.0: 115.65, 275.0: 110.15, 315.0: 70.775, 320.0: 65.825, 330.0: 55.85, 340.0: 45.974999999999994, 345.0: 41.075, 350.0: 35.325, 355.0: 31.15, 360.0: 26.6, 362.5: 24.25, 365.0: 21.925, 367.5: 19.200000000000003, 370.0: 17.55, 372.5: 15.5, 375.0: 13.45, 377.5: 11.9, 380.0: 10.1, 382.5: 8.600000000000001, 385.0: 7.175, 387.5: 6.050000000000001, 390.0: 5.025, 392.5: 4.3, 395.0: 3.5, 397.5: 2.875, 400.0: 2.3899999999999997, 405.0: 1.65, 410.0: 1.185, 415.0: 0.86, 420.0: 0.645, 425.0: 0.475, 430.0: 0.385, 435.0: 0.31, 440.0: 0.245, 445.0: 0.20500000000000002, 450.0: 0.165, 455.0: 0.135, 460.0: 0.1, 465.0: 0.09, 470.0: 0.065, 475.0: 0.065, 480.0: 0.045, 485.0: 0.035, 490.0: 0.04, 495.0: 0.03, 500.0: 0.035, 505.0: 0.03, 510.0: 0.025, 520.0: 0.02, 525.0: 0.025, 535.0: 0.02, 540.0: 0.015}\n"
     ]
    }
   ],
   "source": [
    "calls['Fair Price'] = (calls['ask']+calls['bid'])/2\n",
    "c = calls[calls['volume']>=250]\n",
    "#print(calls[['Fair Price', 'bid', 'ask', 'volume', 'strike']])\n",
    "l = c[['strike', 'Fair Price']]\n",
    "m = l.set_index('strike').to_dict()\n",
    "n = m['Fair Price'] \n",
    "print(n)"
   ]
  },
  {
   "cell_type": "code",
   "execution_count": 64,
   "metadata": {},
   "outputs": [],
   "source": [
    "\n",
    "def Call_Credit_Spread():\n",
    "#     Credit spreads should be otm\n",
    "#     We need to check the risk, reward, break even point\n",
    "#     Then we need to check the ratio of the risk/reward\n",
    "#     Then we need to store the 'Transaction' of the least ratio\n",
    "#     Change currentRatio with the best available one and save that transcation\n",
    "    i=0\n",
    "    best_ratio = {'x':0, 'k':0, 'ratio':((2**31)-1), 'xpremium':0, 'kpremium':0, 'maxRisk':0, 'maxReward':0}\n",
    "    for x in n:\n",
    "        for k in n:\n",
    "            if k<=x:\n",
    "                continue\n",
    "            else:\n",
    "                currentRatio = 1\n",
    "                strikeShort = x\n",
    "                strikeLong = k\n",
    "                #Selling the cheapest one and then buying the more expensive one, one by one\n",
    "                premiumShort = n[x]\n",
    "                premiumLong = n[k]\n",
    "                #figuring out the max risk vs reward in each spread to minimise the risk/reward ratio.\n",
    "                MaxReward = float('{:,.3f}'.format(premiumShort - premiumLong))\n",
    "                #print(\"MaxReward = \", MaxReward)\n",
    "                MaxRisk = float('{:,.2f}'.format(strikeLong - strikeShort - MaxReward))\n",
    "                #print(\"MaxRisk = \", MaxRisk)\n",
    "                if MaxReward == 0:\n",
    "                    continue\n",
    "                elif MaxReward>0:\n",
    "                    #We check this to ignore the cases where the oremium is higher for a higher strikeprice in the money\n",
    "                    Ratio =  float('{:,.2f}'.format(MaxRisk/MaxReward))\n",
    "                    if Ratio < best_ratio['ratio']:\n",
    "                        best_ratio['k']=k\n",
    "                        best_ratio['x']=x\n",
    "                        best_ratio['ratio']=Ratio\n",
    "                        best_ratio['xpremium'] = n[x]\n",
    "                        best_ratio['kpremium'] = n[k]\n",
    "                        best_ratio['maxRisk'] = MaxRisk\n",
    "                        best_ratio['maxReward'] = MaxReward\n",
    "                        \n",
    "                        \n",
    "                #print(\"Ratio = \", Ratio)\n",
    "        return best_ratio\n",
    "        \n",
    "\n"
   ]
  },
  {
   "cell_type": "code",
   "execution_count": 65,
   "metadata": {},
   "outputs": [
    {
     "name": "stdout",
     "output_type": "stream",
     "text": [
      "{'x': 250.0, 'k': 275.0, 'ratio': -0.02, 'xpremium': 135.75, 'kpremium': 110.15, 'maxRisk': -0.6, 'maxReward': 25.6}\n"
     ]
    }
   ],
   "source": [
    "print(Call_Credit_Spread())\n"
   ]
  },
  {
   "cell_type": "code",
   "execution_count": null,
   "metadata": {},
   "outputs": [],
   "source": []
  }
 ],
 "metadata": {
  "kernelspec": {
   "display_name": "Python 3",
   "language": "python",
   "name": "python3"
  },
  "language_info": {
   "codemirror_mode": {
    "name": "ipython",
    "version": 3
   },
   "file_extension": ".py",
   "mimetype": "text/x-python",
   "name": "python",
   "nbconvert_exporter": "python",
   "pygments_lexer": "ipython3",
   "version": "3.8.3"
  }
 },
 "nbformat": 4,
 "nbformat_minor": 4
}
