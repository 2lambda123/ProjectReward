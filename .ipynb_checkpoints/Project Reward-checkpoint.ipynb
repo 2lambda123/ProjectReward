{
 "cells": [
  {
   "cell_type": "code",
   "execution_count": 181,
   "metadata": {},
   "outputs": [],
   "source": [
    "import pandas as pd\n",
    "import numpy as np\n",
    "import yfinance as yf\n",
    "AAPL = yf.Ticker(\"AAPL\")\n",
    "opt = AAPL.option_chain('2020-07-16')\n",
    "calls = opt.calls\n",
    "puts = opt.puts\n",
    "# print(calls)\n"
   ]
  },
  {
   "cell_type": "code",
   "execution_count": 182,
   "metadata": {},
   "outputs": [
    {
     "name": "stdout",
     "output_type": "stream",
     "text": [
      "{385.0: 5.77, 387.5: 4.7, 390.0: 3.8, 392.5: 3.03, 395.0: 2.42, 397.5: 1.9, 400.0: 1.54, 405.0: 0.99, 410.0: 0.68, 415.0: 0.48, 420.0: 0.37, 425.0: 0.28, 430.0: 0.23, 435.0: 0.19, 440.0: 0.14, 445.0: 0.12, 450.0: 0.1, 455.0: 0.09, 460.0: 0.07, 465.0: 0.06, 470.0: 0.04, 475.0: 0.04, 480.0: 0.03, 485.0: 0.03, 490.0: 0.03, 495.0: 0.03, 500.0: 0.02, 505.0: 0.02, 510.0: 0.02, 515.0: 0.02, 520.0: 0.02, 525.0: 0.01, 530.0: 0.01, 535.0: 0.02, 540.0: 0.01}\n"
     ]
    }
   ],
   "source": [
    "k = calls[calls['inTheMoney'] == False]\n",
    "l = k[['strike', 'lastPrice']]\n",
    "m = l.set_index('strike').to_dict()\n",
    "n = m['lastPrice'] \n",
    "print(n)"
   ]
  },
  {
   "cell_type": "code",
   "execution_count": 3,
   "metadata": {},
   "outputs": [],
   "source": [
    "def Call_Credit_Spread():\n",
    "#     Credit spreads should be otm\n",
    "#     We need to check the risk, reward, break even point\n",
    "#     Then we need to check the ratio of the risk/reward\n",
    "#     Then we need to store the 'Transaction' of the least ratio\n",
    "#     Change currentRatio with the best available one and save that transcation\n",
    "    \n",
    "    for x in n:\n",
    "        for k in n:\n",
    "            if k<=x:\n",
    "                continue\n",
    "            else:\n",
    "                print(\"Hi\")\n",
    "#                 print(\"currentRatio = \", currentRatio)\n",
    "#     return(short, long, currentRatio)\n",
    "                    \n",
    "        \n",
    "\n"
   ]
  },
  {
   "cell_type": "code",
   "execution_count": 5,
   "metadata": {},
   "outputs": [
    {
     "ename": "NameError",
     "evalue": "name 'n' is not defined",
     "output_type": "error",
     "traceback": [
      "\u001b[0;31m---------------------------------------------------------------------------\u001b[0m",
      "\u001b[0;31mNameError\u001b[0m                                 Traceback (most recent call last)",
      "\u001b[0;32m<ipython-input-5-6b5f7bc0a720>\u001b[0m in \u001b[0;36m<module>\u001b[0;34m\u001b[0m\n\u001b[0;32m----> 1\u001b[0;31m \u001b[0mprint\u001b[0m\u001b[0;34m(\u001b[0m\u001b[0mCall_Credit_Spread\u001b[0m\u001b[0;34m(\u001b[0m\u001b[0mn\u001b[0m\u001b[0;34m)\u001b[0m\u001b[0;34m)\u001b[0m\u001b[0;34m\u001b[0m\u001b[0;34m\u001b[0m\u001b[0m\n\u001b[0m",
      "\u001b[0;31mNameError\u001b[0m: name 'n' is not defined"
     ]
    }
   ],
   "source": [
    "print(Call_Credit_Spread(n))\n"
   ]
  },
  {
   "cell_type": "code",
   "execution_count": null,
   "metadata": {},
   "outputs": [],
   "source": []
  }
 ],
 "metadata": {
  "kernelspec": {
   "display_name": "Python 3",
   "language": "python",
   "name": "python3"
  },
  "language_info": {
   "codemirror_mode": {
    "name": "ipython",
    "version": 3
   },
   "file_extension": ".py",
   "mimetype": "text/x-python",
   "name": "python",
   "nbconvert_exporter": "python",
   "pygments_lexer": "ipython3",
   "version": "3.8.3"
  }
 },
 "nbformat": 4,
 "nbformat_minor": 4
}
